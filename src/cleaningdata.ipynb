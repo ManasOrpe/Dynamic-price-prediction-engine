{
 "cells": [
  {
   "cell_type": "code",
   "execution_count": 47,
   "id": "7eba939a",
   "metadata": {},
   "outputs": [],
   "source": [
    "import pandas as pd\n",
    "import re\n"
   ]
  },
  {
   "cell_type": "code",
   "execution_count": 48,
   "id": "0e16397b",
   "metadata": {},
   "outputs": [
    {
     "name": "stderr",
     "output_type": "stream",
     "text": [
      "C:\\Users\\manas\\AppData\\Local\\Temp\\ipykernel_43540\\809053194.py:1: UserWarning: Parsing dates in %d-%m-%Y %H:%M format when dayfirst=False (the default) was specified. Pass `dayfirst=True` or specify a format to silence this warning.\n",
      "  data=pd.read_csv(\"../Data/rideshare_kaggle.csv\", parse_dates=['datetime', 'timestamp'])\n",
      "C:\\Users\\manas\\AppData\\Local\\Temp\\ipykernel_43540\\809053194.py:1: UserWarning: Could not infer format, so each element will be parsed individually, falling back to `dateutil`. To ensure parsing is consistent and as-expected, please specify a format.\n",
      "  data=pd.read_csv(\"../Data/rideshare_kaggle.csv\", parse_dates=['datetime', 'timestamp'])\n"
     ]
    }
   ],
   "source": [
    "data=pd.read_csv(\"../Data/rideshare_kaggle.csv\", parse_dates=['datetime', 'timestamp'])\n",
    "\n"
   ]
  },
  {
   "cell_type": "code",
   "execution_count": 49,
   "id": "a658d0c2",
   "metadata": {},
   "outputs": [
    {
     "data": {
      "text/plain": [
       "id                                     object\n",
       "timestamp                              object\n",
       "hour                                    int64\n",
       "day                                     int64\n",
       "month                                   int64\n",
       "datetime                       datetime64[ns]\n",
       "timezone                               object\n",
       "source                                 object\n",
       "destination                            object\n",
       "cab_type                               object\n",
       "product_id                             object\n",
       "name                                   object\n",
       "price                                 float64\n",
       "distance                              float64\n",
       "surge_multiplier                      float64\n",
       "latitude                              float64\n",
       "longitude                             float64\n",
       "temperature                           float64\n",
       "apparentTemperature                   float64\n",
       "short_summary                          object\n",
       "long_summary                           object\n",
       "precipIntensity                       float64\n",
       "precipProbability                     float64\n",
       "humidity                              float64\n",
       "windSpeed                             float64\n",
       "windGust                              float64\n",
       "windGustTime                            int64\n",
       "visibility                            float64\n",
       "temperatureHigh                       float64\n",
       "temperatureHighTime                     int64\n",
       "temperatureLow                        float64\n",
       "temperatureLowTime                      int64\n",
       "apparentTemperatureHigh               float64\n",
       "apparentTemperatureHighTime             int64\n",
       "apparentTemperatureLow                float64\n",
       "apparentTemperatureLowTime              int64\n",
       "icon                                   object\n",
       "dewPoint                              float64\n",
       "pressure                              float64\n",
       "windBearing                             int64\n",
       "cloudCover                            float64\n",
       "uvIndex                                 int64\n",
       "visibility.1                          float64\n",
       "ozone                                 float64\n",
       "sunriseTime                             int64\n",
       "sunsetTime                              int64\n",
       "moonPhase                             float64\n",
       "precipIntensityMax                    float64\n",
       "uvIndexTime                             int64\n",
       "temperatureMin                        float64\n",
       "temperatureMinTime                      int64\n",
       "temperatureMax                        float64\n",
       "temperatureMaxTime                      int64\n",
       "apparentTemperatureMin                float64\n",
       "apparentTemperatureMinTime              int64\n",
       "apparentTemperatureMax                float64\n",
       "apparentTemperatureMaxTime              int64\n",
       "dtype: object"
      ]
     },
     "execution_count": 49,
     "metadata": {},
     "output_type": "execute_result"
    }
   ],
   "source": [
    "data.dtypes"
   ]
  },
  {
   "cell_type": "code",
   "execution_count": 50,
   "id": "0d93f95a",
   "metadata": {},
   "outputs": [],
   "source": [
    "def clean_cab_data(df:pd.DataFrame)-> pd.DataFrame:\n",
    "    df=df.copy()\n",
    "       \n",
    "    if 'timestamp' in df.columns:\n",
    "        df['datetime']=pd.to_datetime(df['timestamp'],unit='s',errors='coerce') \n",
    "        df.drop('timestamp',axis=1,inplace=True)\n",
    "\n",
    "    # droping duplicates\n",
    "    df.drop_duplicates(inplace=True)\n",
    "\n",
    "    # finding any columns with have \"Time \" in it and finding if its nuerical using pd.api.types.is_numeric_dtype if it is than convert it into my datetime \n",
    "    for col in df.columns:\n",
    "        if \"Time\" in col and pd.api.types.is_numeric_dtype(df[col]):\n",
    "            try:\n",
    "                df[col]=pd.to_datetime(df[col],unit='s',errors='coerce')\n",
    "            except Exception as e:\n",
    "                print(f\"Skipping column {col}:{e}\")\n",
    "\n",
    "    for col in df.columns:\n",
    "        if \"summary\" in col:\n",
    "            df[col]=df[col].str.strip()           \n",
    "                                \n",
    "    return df\n",
    "         \n",
    "\n",
    "\n",
    "\n",
    "\n",
    "\n",
    "    \n"
   ]
  },
  {
   "cell_type": "code",
   "execution_count": 51,
   "id": "f5864f22",
   "metadata": {},
   "outputs": [
    {
     "name": "stderr",
     "output_type": "stream",
     "text": [
      "C:\\Users\\manas\\AppData\\Local\\Temp\\ipykernel_43540\\4248392413.py:5: FutureWarning: The behavior of 'to_datetime' with 'unit' when parsing strings is deprecated. In a future version, strings will be parsed as datetime strings, matching the behavior without a 'unit'. To retain the old behavior, explicitly cast ints or floats to numeric type before calling to_datetime.\n",
      "  df['datetime']=pd.to_datetime(df['timestamp'],unit='s',errors='coerce')\n"
     ]
    }
   ],
   "source": [
    "new_data=clean_cab_data(data)"
   ]
  },
  {
   "cell_type": "code",
   "execution_count": 52,
   "id": "bdd26e65",
   "metadata": {},
   "outputs": [
    {
     "data": {
      "text/plain": [
       "id                                     object\n",
       "hour                                    int64\n",
       "day                                     int64\n",
       "month                                   int64\n",
       "datetime                       datetime64[ns]\n",
       "timezone                               object\n",
       "source                                 object\n",
       "destination                            object\n",
       "cab_type                               object\n",
       "product_id                             object\n",
       "name                                   object\n",
       "price                                 float64\n",
       "distance                              float64\n",
       "surge_multiplier                      float64\n",
       "latitude                              float64\n",
       "longitude                             float64\n",
       "temperature                           float64\n",
       "apparentTemperature                   float64\n",
       "short_summary                          object\n",
       "long_summary                           object\n",
       "precipIntensity                       float64\n",
       "precipProbability                     float64\n",
       "humidity                              float64\n",
       "windSpeed                             float64\n",
       "windGust                              float64\n",
       "windGustTime                   datetime64[ns]\n",
       "visibility                            float64\n",
       "temperatureHigh                       float64\n",
       "temperatureHighTime            datetime64[ns]\n",
       "temperatureLow                        float64\n",
       "temperatureLowTime             datetime64[ns]\n",
       "apparentTemperatureHigh               float64\n",
       "apparentTemperatureHighTime    datetime64[ns]\n",
       "apparentTemperatureLow                float64\n",
       "apparentTemperatureLowTime     datetime64[ns]\n",
       "icon                                   object\n",
       "dewPoint                              float64\n",
       "pressure                              float64\n",
       "windBearing                             int64\n",
       "cloudCover                            float64\n",
       "uvIndex                                 int64\n",
       "visibility.1                          float64\n",
       "ozone                                 float64\n",
       "sunriseTime                    datetime64[ns]\n",
       "sunsetTime                     datetime64[ns]\n",
       "moonPhase                             float64\n",
       "precipIntensityMax                    float64\n",
       "uvIndexTime                    datetime64[ns]\n",
       "temperatureMin                        float64\n",
       "temperatureMinTime             datetime64[ns]\n",
       "temperatureMax                        float64\n",
       "temperatureMaxTime             datetime64[ns]\n",
       "apparentTemperatureMin                float64\n",
       "apparentTemperatureMinTime     datetime64[ns]\n",
       "apparentTemperatureMax                float64\n",
       "apparentTemperatureMaxTime     datetime64[ns]\n",
       "dtype: object"
      ]
     },
     "execution_count": 52,
     "metadata": {},
     "output_type": "execute_result"
    }
   ],
   "source": [
    "new_data.dtypes"
   ]
  }
 ],
 "metadata": {
  "kernelspec": {
   "display_name": "Python 3",
   "language": "python",
   "name": "python3"
  },
  "language_info": {
   "codemirror_mode": {
    "name": "ipython",
    "version": 3
   },
   "file_extension": ".py",
   "mimetype": "text/x-python",
   "name": "python",
   "nbconvert_exporter": "python",
   "pygments_lexer": "ipython3",
   "version": "3.11.0"
  }
 },
 "nbformat": 4,
 "nbformat_minor": 5
}
